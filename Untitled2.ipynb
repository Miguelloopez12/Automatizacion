{
  "nbformat": 4,
  "nbformat_minor": 0,
  "metadata": {
    "colab": {
      "provenance": [],
      "authorship_tag": "ABX9TyNml0nL6FMUofVaJMwjbSqK",
      "include_colab_link": true
    },
    "kernelspec": {
      "name": "python3",
      "display_name": "Python 3"
    },
    "language_info": {
      "name": "python"
    }
  },
  "cells": [
    {
      "cell_type": "markdown",
      "metadata": {
        "id": "view-in-github",
        "colab_type": "text"
      },
      "source": [
        "<a href=\"https://colab.research.google.com/github/Miguelloopez12/Automatizacion/blob/main/Untitled2.ipynb\" target=\"_parent\"><img src=\"https://colab.research.google.com/assets/colab-badge.svg\" alt=\"Open In Colab\"/></a>"
      ]
    },
    {
      "cell_type": "code",
      "source": [
        "from google.colab import drive\n",
        "drive.mount('/content/drive')"
      ],
      "metadata": {
        "colab": {
          "base_uri": "https://localhost:8080/"
        },
        "id": "M4Zwq6b99pey",
        "outputId": "ee210011-cffb-4ddc-a5d7-15b7fe3acedc"
      },
      "execution_count": null,
      "outputs": [
        {
          "output_type": "stream",
          "name": "stdout",
          "text": [
            "Mounted at /content/drive\n"
          ]
        }
      ]
    },
    {
      "cell_type": "code",
      "execution_count": null,
      "metadata": {
        "id": "daqW4uwj_Fdr"
      },
      "outputs": [],
      "source": [
        "import pandas as pd\n",
        "from google.colab import files\n",
        "import os\n",
        "import numpy as np\n",
        "from openpyxl import load_workbook\n",
        "from openpyxl.styles import Font\n",
        "from openpyxl.utils.dataframe import dataframe_to_rows"
      ]
    },
    {
      "cell_type": "code",
      "source": [
        "mes = input(\"Ingrese el mes a generar los extractos(Primera letra en mayuscula \")"
      ],
      "metadata": {
        "colab": {
          "base_uri": "https://localhost:8080/"
        },
        "id": "XaJNdPaF9KED",
        "outputId": "e043b019-53f8-4ca8-d330-60d7b08712dc"
      },
      "execution_count": null,
      "outputs": [
        {
          "name": "stdout",
          "output_type": "stream",
          "text": [
            "Ingrese el mes a generar los extractos(Primera letra en mayuscula Julio\n"
          ]
        }
      ]
    },
    {
      "cell_type": "code",
      "source": [
        "path = f'/content/drive/My Drive/ColabNotebooks/Output/ExtractosRetos{mes}/'"
      ],
      "metadata": {
        "id": "3mMxVHR19KJK"
      },
      "execution_count": null,
      "outputs": []
    },
    {
      "cell_type": "markdown",
      "source": [],
      "metadata": {
        "id": "PoixvmjoENL7"
      }
    },
    {
      "cell_type": "code",
      "source": [
        "Path1 = f'/content/drive/My Drive/ColabNotebooks/Variables/'"
      ],
      "metadata": {
        "id": "gNze7y-09KT6"
      },
      "execution_count": null,
      "outputs": []
    },
    {
      "cell_type": "code",
      "source": [
        "Fichas_A_Ganar = Path1 + f'Fichas a Ganar {mes}.xlsx'\n",
        "Fichas_Ganadas = Path1 + f'Fichas Ganadas {mes}.xlsx'"
      ],
      "metadata": {
        "id": "-yj2Jvix9KLa"
      },
      "execution_count": null,
      "outputs": []
    },
    {
      "cell_type": "code",
      "source": [
        "#Convertimos a dataframe los excel de fichas a ganar y fichas ganadas\n",
        "df_fichas_A_Ganar = pd.read_excel(Fichas_A_Ganar, sheet_name=\"METRICAS\")\n",
        "df_Fichas_Ganadas = pd.read_excel(Fichas_Ganadas, sheet_name =\"Ganados\")"
      ],
      "metadata": {
        "id": "U2XGaLn6NFv1"
      },
      "execution_count": null,
      "outputs": []
    },
    {
      "cell_type": "code",
      "source": [
        "df_fichas_A_Ganar['NIVEL'] = df_fichas_A_Ganar['NIVEL'].str.lower()"
      ],
      "metadata": {
        "id": "IcUlj4Sy9KVr"
      },
      "execution_count": null,
      "outputs": []
    },
    {
      "cell_type": "code",
      "source": [
        "# Lista todos los archivos y carpetas dentro del directorio 'path'\n",
        "archivos = os.listdir(path)"
      ],
      "metadata": {
        "id": "yi8ISXCO9KNi"
      },
      "execution_count": null,
      "outputs": []
    },
    {
      "cell_type": "code",
      "source": [
        "# Filtra la lista para que solo contenga archivos con la extensión '.xlsx'\n",
        "archivos = [f for f in archivos if f.endswith('.xlsx')]"
      ],
      "metadata": {
        "id": "vhCHr9HX9KPq"
      },
      "execution_count": null,
      "outputs": []
    },
    {
      "cell_type": "code",
      "source": [
        "dataframes = []"
      ],
      "metadata": {
        "id": "u7G-i4-znLj2"
      },
      "execution_count": null,
      "outputs": []
    },
    {
      "cell_type": "code",
      "source": [
        "# Definir estilos de fuente para cada estado\n",
        "formato_cumple = Font(color='00B050')  # Verde\n",
        "formato_no_cumple = Font(color='EA4335')  # Rojo"
      ],
      "metadata": {
        "id": "rAcBXP72Lrg0"
      },
      "execution_count": null,
      "outputs": []
    },
    {
      "cell_type": "code",
      "source": [
        "# Iteramos sobre los archivos\n",
        "for archivo in archivos:\n",
        "  try:\n",
        "    # Construye la ruta completa del archivo combinando el directorio 'path' y el nombre del archivo\n",
        "    archivo_completo = os.path.join(path, archivo)\n",
        "\n",
        "    df = pd.read_excel(archivo_completo, sheet_name = \"Detalle Extracto\")\n",
        "\n",
        "    df[\"NIVEL\"] = df[\"NIVEL\"].str.lower()\n",
        "\n",
        "    # Cargar el archivo de Excel en la lista de dataframes\n",
        "    dataframes.append(df)\n",
        "\n",
        "    # Hacemos la relacion entre dos dataframes\n",
        "    df_resultado = pd.merge(df,df_fichas_A_Ganar, on=[\"TIPO DE VENDEDOR\", \"NIVEL\"], how=\"inner\" )\n",
        "\n",
        "    # Convertimos la columna \"DOCUMENTO\" a tipo entero\n",
        "    df_resultado[\"DOCUMENTO\"] = df_resultado[\"DOCUMENTO\"].astype(int)\n",
        "\n",
        "    # Concatenamos las columnas para crear una clave\n",
        "    df_resultado[\"CONCATENADO\"] = df_resultado[\"DOCUMENTO\"].astype(str) + df_resultado[\"INDICADOR\"]\n",
        "\n",
        "    # Eliminamos duplicados\n",
        "    df_sin_duplicados = df_resultado.drop_duplicates()\n",
        "\n",
        "     # Seleccionamos las columnas que deseamos\n",
        "    Columnas_Seleccionadas = [\"AGENTE COMERCIAL\", \"NOMBRE AFILIADO\", \"TIPO DE VENDEDOR\",\n",
        "                              \"DOCUMENTO\", \"NIVEL\", \"INDICADOR\", \"FICHAS\", \"CONCATENADO\"]\n",
        "\n",
        "    # Aplicamos al dataframe las columnas que deseamos\n",
        "    df_sin_duplicados = df_sin_duplicados[Columnas_Seleccionadas]\n",
        "\n",
        "    # Eliminamos duplicados\n",
        "    df_sin_duplicados = df_sin_duplicados.drop_duplicates()\n",
        "\n",
        "    # Hacemos relacion del dataframe \"df_sin_duplicados\" y el dataframe \"df_Fichas_Ganadas\" trayendo solo la columna de FICHAS\n",
        "    df_resultado2 = pd.merge(df_sin_duplicados,df_Fichas_Ganadas[[\"CONCATENADO\", \"FICHAS\"]], on=[\"CONCATENADO\"], how =\"left\")\n",
        "\n",
        "    # Renombramos las columnas de las fichas\n",
        "    df_resultado2 = df_resultado2.rename(columns={\"FICHAS_x\":\"FICHAS A GANAR\", \"FICHAS_y\":\"FICHAS ENTREGADAS\"})\n",
        "\n",
        "    # Seleccionamos las columnas para mostrarlas en el orden deseado\n",
        "    Columnas_Seleccionadas2 = [\"AGENTE COMERCIAL\", \"NOMBRE AFILIADO\", \"TIPO DE VENDEDOR\",\"DOCUMENTO\",\"NIVEL\",\"INDICADOR\",\"FICHAS A GANAR\",\"FICHAS ENTREGADAS\"]\n",
        "    df_resultado2 = df_resultado2[Columnas_Seleccionadas2]\n",
        "\n",
        "    # Eliminamos duplicados\n",
        "    df_resultado2 = df_resultado2.drop_duplicates()\n",
        "\n",
        "    # Remplazamos los valores vacios por 0 en la columna \"FICHAS ENTREGADAS\"\n",
        "    df_resultado2[\"FICHAS ENTREGADAS\"].replace(np.nan,0, inplace=True)\n",
        "\n",
        "    #Creamos una columna basada en una condicion\n",
        "    df_resultado2[\"¿CUMPLE?\"] = np.where(df_resultado2[\"FICHAS ENTREGADAS\"] > 0, \"CUMPLE\", \"NO CUMPLE\")\n",
        "\n",
        "\n",
        "    # Seleccionamos el orden que van las columnas\n",
        "    Columnas_Seleccionadas3 = [\"AGENTE COMERCIAL\", \"NOMBRE AFILIADO\", \"TIPO DE VENDEDOR\",\"DOCUMENTO\",\"NIVEL\",\"INDICADOR\",\"¿CUMPLE?\",\"FICHAS A GANAR\",\"FICHAS ENTREGADAS\"]\n",
        "    df_resultado2 = df_resultado2[Columnas_Seleccionadas3]\n",
        "\n",
        "\n",
        "    # Guardarmos el DataFrame en una nueva hoja en el mismo archivo de Excel\n",
        "    # with pd.ExcelWriter(archivo_completo, engine='openpyxl', mode='a') as writer:\n",
        "         #df_resultado2.to_excel(writer, sheet_name='HojaProcesada23', index=False)\n",
        "\n",
        "    # Abrir el archivo guardado con `openpyxl` para aplicar formato a \"HojaProcesada21\"\n",
        "    wb = load_workbook(archivo_completo)\n",
        "\n",
        "    hoja_especifica = \"Detalle Extracto\"\n",
        "\n",
        "    if hoja_especifica in wb.sheetnames:\n",
        "            ws = wb[hoja_especifica]\n",
        "\n",
        "            ultima_fila = ws.max_row\n",
        "\n",
        "            # Agregar las filas del DataFrame a partir de la siguiente fila vacía\n",
        "            for r_idx, row in enumerate(dataframe_to_rows(df_resultado2, index=False, header=False), start=ultima_fila+1):\n",
        "                for c_idx, value in enumerate(row, 1):\n",
        "                  ws.cell(row=r_idx, column=c_idx, value=value)\n",
        "\n",
        "\n",
        "            # Aplicar formato de color a la columna \"¿CUMPLE?\"\n",
        "            for row in ws.iter_rows(min_row=2, max_row=ws.max_row, min_col=7, max_col=7):\n",
        "                cell = row[0]  # La columna 7 es \"¿CUMPLE?\"\n",
        "                if cell.value == \"CUMPLE\":\n",
        "                    cell.font = formato_cumple\n",
        "                elif cell.value == \"NO CUMPLE\":\n",
        "                    cell.font = formato_no_cumple\n",
        "            wb.save(archivo_completo)\n",
        "    else:\n",
        "      print(f\"Hoja 'HojaProcesada21' no encontrada en {archivo_completo}\")\n",
        "\n",
        "\n",
        "\n",
        "  except FileNotFoundError:\n",
        "      print(f\"Error: No se encontró el archivo {archivo}.xlsx\")\n",
        "  except Exception as e:\n",
        "      print(f\"Error al procesar el archivo {archivo}.xlsx: {str(e)}\")\n",
        "\n"
      ],
      "metadata": {
        "colab": {
          "base_uri": "https://localhost:8080/"
        },
        "id": "qsyKFavv9KRz",
        "outputId": "6f176012-1a5d-4ced-ff0e-3f9a3ebe2f25"
      },
      "execution_count": null,
      "outputs": [
        {
          "output_type": "stream",
          "name": "stdout",
          "text": [
            "Error al procesar el archivo Informe Travesia - REDDEMARCAS DISTRIBUCIONES S.A.S.xlsx.xlsx: Bad CRC-32 for file 'docProps/core.xml'\n"
          ]
        }
      ]
    },
    {
      "cell_type": "code",
      "source": [
        "!ls"
      ],
      "metadata": {
        "colab": {
          "base_uri": "https://localhost:8080/"
        },
        "id": "YkCE7E3iQpNu",
        "outputId": "210c5587-e0d8-4d1e-9eb6-6a48f6e323fa"
      },
      "execution_count": 22,
      "outputs": [
        {
          "output_type": "stream",
          "name": "stdout",
          "text": [
            "Automatizacion\n"
          ]
        }
      ]
    },
    {
      "cell_type": "code",
      "source": [
        "!mv Automatizacion /content/Automatizacion"
      ],
      "metadata": {
        "colab": {
          "base_uri": "https://localhost:8080/"
        },
        "id": "Dm08yoeWP-eo",
        "outputId": "7ecebfef-0d34-4aa3-f782-cb4b4584c8a4"
      },
      "execution_count": 23,
      "outputs": [
        {
          "output_type": "stream",
          "name": "stdout",
          "text": [
            "mv: 'Automatizacion' and '/content/Automatizacion/Automatizacion' are the same file\n"
          ]
        }
      ]
    },
    {
      "cell_type": "markdown",
      "source": [],
      "metadata": {
        "id": "0czG-wL9PXl-"
      }
    },
    {
      "cell_type": "markdown",
      "source": [],
      "metadata": {
        "id": "WjMoPziYPPrA"
      }
    },
    {
      "cell_type": "code",
      "source": [
        "!git clone https://github.com/Miguelloopez12/Automatizacion\n",
        "\n",
        "!mv untitled2.ipynb /content/Automatizacion\n",
        "\n",
        "%cd /content/Automatizacion\n",
        "\n",
        "!git config --global user.email \"destroyer1803@hotmail.com\"\n",
        "!git config --global user.name \"Miguelloopez12\"\n",
        "\n",
        "!git add untitled2.ipynb\n",
        "\n",
        "!git commit -m \"Agregando archivo desde Google Colab\"\n",
        "\n",
        "!git push origin main"
      ],
      "metadata": {
        "id": "jQFu69MB6Zxy",
        "colab": {
          "base_uri": "https://localhost:8080/"
        },
        "outputId": "e080d208-26a0-49d9-e2f6-3dd4be313a1f"
      },
      "execution_count": 18,
      "outputs": [
        {
          "output_type": "stream",
          "name": "stdout",
          "text": [
            "Cloning into 'Automatizacion'...\n",
            "warning: You appear to have cloned an empty repository.\n",
            "mv: cannot stat 'untitled2.ipynb': No such file or directory\n",
            "/content/Automatizacion\n",
            "fatal: pathspec 'untitled2.ipynb' did not match any files\n",
            "On branch main\n",
            "\n",
            "Initial commit\n",
            "\n",
            "Untracked files:\n",
            "  (use \"git add <file>...\" to include in what will be committed)\n",
            "\t\u001b[31mAutomatizacion/\u001b[m\n",
            "\n",
            "nothing added to commit but untracked files present (use \"git add\" to track)\n",
            "error: src refspec main does not match any\n",
            "\u001b[31merror: failed to push some refs to 'https://github.com/Miguelloopez12/Automatizacion'\n",
            "\u001b[m"
          ]
        }
      ]
    },
    {
      "cell_type": "markdown",
      "source": [],
      "metadata": {
        "id": "CNVQdxCM2km5"
      }
    },
    {
      "cell_type": "code",
      "source": [],
      "metadata": {
        "id": "87-lYw6dNC1F"
      },
      "execution_count": null,
      "outputs": []
    },
    {
      "cell_type": "code",
      "source": [],
      "metadata": {
        "id": "Jz9gYkbcNC3k"
      },
      "execution_count": null,
      "outputs": []
    }
  ]
}